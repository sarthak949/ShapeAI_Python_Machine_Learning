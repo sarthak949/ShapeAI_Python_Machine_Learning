{
  "nbformat": 4,
  "nbformat_minor": 0,
  "metadata": {
    "colab": {
      "name": "Sarthak katiyar.ipynb",
      "provenance": [],
      "collapsed_sections": []
    },
    "kernelspec": {
      "name": "python3",
      "display_name": "Python 3"
    },
    "language_info": {
      "name": "python"
    }
  },
  "cells": [
    {
      "cell_type": "code",
      "metadata": {
        "id": "2rPM-Wk3MTAh",
        "colab": {
          "base_uri": "https://localhost:8080/"
        },
        "outputId": "88042ccc-acde-4bd6-d50f-bf26b1eb9e43"
      },
      "source": [
        "import numpy as np\n",
        "import pandas as pd\n",
        "import sklearn \n",
        "\n",
        "from sklearn.datasets import load_boston\n",
        "df = load_boston()\n",
        "\n",
        "df.keys() \n",
        "boston = pd.DataFrame(df.data ,columns=df.feature_names)\n",
        "boston.head()\n",
        "\n",
        "boston['MEDV'] =df.target\n",
        "boston.head()\n",
        "\n",
        "boston.isnull()\n",
        "boston.isnull().sum()\n",
        "from sklearn.model_selection import train_test_split\n",
        "x= boston.drop( 'MEDV',axis=1)\n",
        "y=boston['MEDV']\n",
        "x_train , x_test , y_train , y_test = train_test_split(x,y,test_size=0.15 , random_state=5)\n",
        "print(x_train.shape)\n",
        "print(x_test.shape)\n",
        "print(y_train.shape)\n",
        "print(y_test.shape)\n",
        "\n",
        "from sklearn.linear_model import LinearRegression\n",
        "from sklearn.metrics import mean_squared_error\n",
        "lin_model =LinearRegression()\n",
        "lin_model.fit(x_train ,y_train)\n",
        "y_train_predict = lin_model.predict(x_train)\n",
        "rmse=(np.sqrt(mean_squared_error(y_train ,y_train_predict)))\n",
        "print(\"The model performace for traning set\")\n",
        "print(\"rmse is {}\".format(rmse))\n",
        "print(\"\\n\")\n",
        "\n",
        "y_test_predict= lin_model.predict(x_test)\n",
        "rmse= (np.sqrt(mean_squared_error(y_test,y_test_predict)))\n",
        "print(\"the model performance for testing set\")\n",
        "print(\"RMSE is {}\".format(rmse))"
      ],
      "execution_count": null,
      "outputs": [
        {
          "output_type": "stream",
          "text": [
            "(430, 13)\n",
            "(76, 13)\n",
            "(430,)\n",
            "(76,)\n",
            "The model performace for traning set\n",
            "rmse is 4.710901797319796\n",
            "\n",
            "\n",
            "the model performance for testing set\n",
            "RMSE is 4.687543527902972\n"
          ],
          "name": "stdout"
        }
      ]
    }
  ]
}